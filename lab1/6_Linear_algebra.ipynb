{
 "cells": [
  {
   "cell_type": "markdown",
   "metadata": {
    "id": "K3_1CBlJUZtd"
   },
   "source": [
    "# Linear algebra"
   ]
  },
  {
   "cell_type": "code",
   "execution_count": null,
   "metadata": {
    "collapsed": true,
    "id": "yXOSsMCjUZtd"
   },
   "outputs": [],
   "source": [
    "import numpy as np"
   ]
  },
  {
   "cell_type": "markdown",
   "metadata": {
    "id": "LQX_BAqYUZte"
   },
   "source": [
    "## Matrix and vector products"
   ]
  },
  {
   "cell_type": "markdown",
   "metadata": {
    "id": "s5hB28MKUZte"
   },
   "source": [
    "Q1. Predict the results of the following code."
   ]
  },
  {
   "cell_type": "code",
   "execution_count": null,
   "metadata": {
    "id": "vtGL5td_UZte"
   },
   "outputs": [],
   "source": [
    "x = [1,2]\n",
    "y = [[4, 1], [2, 2]]\n",
    "#print np.dot(x, y)\n",
    "#print np.dot(y, x)\n",
    "#print np.matmul(x, y)\n",
    "#print np.inner(x, y)\n",
    "#print np.inner(y, x)"
   ]
  },
  {
   "cell_type": "markdown",
   "metadata": {
    "id": "llVBlY7nUZtf"
   },
   "source": [
    "Q2. Predict the results of the following code."
   ]
  },
  {
   "cell_type": "code",
   "execution_count": null,
   "metadata": {
    "id": "UsCtp0E9UZtf"
   },
   "outputs": [],
   "source": [
    "x = [[1, 0], [0, 1]]\n",
    "y = [[4, 1], [2, 2], [1, 1]]\n",
    "#print np.dot(y, x)\n",
    "#print np.matmul(y, x)\n"
   ]
  },
  {
   "cell_type": "markdown",
   "metadata": {
    "id": "gSu97KZIUZtf"
   },
   "source": [
    "Q3. Predict the results of the following code."
   ]
  },
  {
   "cell_type": "code",
   "execution_count": null,
   "metadata": {
    "id": "YSndEHQjUZtf"
   },
   "outputs": [],
   "source": [
    "x = np.array([[1, 4], [5, 6]])\n",
    "y = np.array([[4, 1], [2, 2]])\n",
    "#print np.vdot(x, y)\n",
    "#print np.vdot(y, x)\n",
    "#print np.dot(x.flatten(), y.flatten())\n",
    "#print np.inner(x.flatten(), y.flatten())\n",
    "#print (x*y).sum()"
   ]
  },
  {
   "cell_type": "markdown",
   "metadata": {
    "id": "EJfqWmrFUZtf"
   },
   "source": [
    "Q4. Predict the results of the following code."
   ]
  },
  {
   "cell_type": "code",
   "execution_count": null,
   "metadata": {
    "id": "yXO-vQWNUZtf"
   },
   "outputs": [],
   "source": [
    "x = np.array(['a', 'b'], dtype=object)\n",
    "y = np.array([1, 2])\n",
    "#print np.inner(x, y)\n",
    "#print np.inner(y, x)\n",
    "#print np.outer(x, y)\n",
    "#print np.outer(y, x)"
   ]
  },
  {
   "cell_type": "markdown",
   "metadata": {
    "id": "u_KIS5CSUZtf"
   },
   "source": [
    "## Decompositions"
   ]
  },
  {
   "cell_type": "markdown",
   "metadata": {
    "id": "0EtbMUmpUZtf"
   },
   "source": [
    "Q5. Get the lower-trianglular `L` in the Cholesky decomposition of x and verify it."
   ]
  },
  {
   "cell_type": "code",
   "execution_count": null,
   "metadata": {
    "id": "xMZ8NX6cUZtf",
    "outputId": "c3d52fab-8b91-48e8-f58f-75c99445730f"
   },
   "outputs": [
    {
     "name": "stdout",
     "output_type": "stream",
     "text": [
      "[[ 2.  0.  0.]\n",
      " [ 6.  1.  0.]\n",
      " [-8.  5.  3.]]\n"
     ]
    }
   ],
   "source": [
    "x = np.array([[4, 12, -16], [12, 37, -43], [-16, -43, 98]], dtype=np.int32)\n"
   ]
  },
  {
   "cell_type": "markdown",
   "metadata": {
    "id": "5ygOWTLNUZtf"
   },
   "source": [
    "Q6. Compute the qr factorization of x and verify it."
   ]
  },
  {
   "cell_type": "code",
   "execution_count": null,
   "metadata": {
    "id": "DrKYYNO3UZtf",
    "outputId": "f1d49386-baab-418b-ecd2-f0a66962434e"
   },
   "outputs": [
    {
     "name": "stdout",
     "output_type": "stream",
     "text": [
      "q=\n",
      "[[-0.85714287  0.39428571  0.33142856]\n",
      " [-0.42857143 -0.90285712 -0.03428571]\n",
      " [ 0.2857143  -0.17142858  0.94285715]] \n",
      "r=\n",
      "[[ -14.  -21.   14.]\n",
      " [   0. -175.   70.]\n",
      " [   0.    0.  -35.]]\n"
     ]
    }
   ],
   "source": [
    "x = np.array([[12, -51, 4], [6, 167, -68], [-4, 24, -41]], dtype=np.float32)\n"
   ]
  },
  {
   "cell_type": "markdown",
   "metadata": {
    "id": "7LTFItT-UZtf"
   },
   "source": [
    "Q7. Factor x by Singular Value Decomposition and verify it."
   ]
  },
  {
   "cell_type": "code",
   "execution_count": null,
   "metadata": {
    "id": "S5DsMAN0UZtf",
    "outputId": "c7656e54-fa39-419a-8315-b0414b13611d"
   },
   "outputs": [
    {
     "name": "stdout",
     "output_type": "stream",
     "text": [
      "U=\n",
      "[[ 0.  1.  0.  0.]\n",
      " [ 1.  0.  0.  0.]\n",
      " [ 0.  0.  0. -1.]\n",
      " [ 0.  0.  1.  0.]] \n",
      "s=\n",
      "[ 3.          2.23606801  2.          0.        ] \n",
      "V=\n",
      "[[ 1.  0.  0.]\n",
      " [ 0.  1.  0.]\n",
      " [ 0.  0.  1.]]\n"
     ]
    }
   ],
   "source": [
    "x = np.array([[1, 0, 0, 0, 2], [0, 0, 3, 0, 0], [0, 0, 0, 0, 0], [0, 2, 0, 0, 0]], dtype=np.float32)\n"
   ]
  },
  {
   "cell_type": "markdown",
   "metadata": {
    "id": "v5TnxssFUZtf"
   },
   "source": [
    "## Matrix eigenvalues"
   ]
  },
  {
   "cell_type": "markdown",
   "metadata": {
    "id": "qXbmc6d3UZtf"
   },
   "source": [
    "Q8. Compute the eigenvalues and right eigenvectors of x. (Name them eigenvals and eigenvecs, respectively)"
   ]
  },
  {
   "cell_type": "code",
   "execution_count": null,
   "metadata": {
    "id": "-khjv959UZtf",
    "outputId": "6c2e8b3f-f336-4285-cb4c-007c60666cfa"
   },
   "outputs": [
    {
     "name": "stdout",
     "output_type": "stream",
     "text": [
      "eigenvalues are\n",
      "[ 1.  2.  3.]\n",
      "eigenvectors are\n",
      "[[ 1.  0.  0.]\n",
      " [ 0.  1.  0.]\n",
      " [ 0.  0.  1.]]\n"
     ]
    }
   ],
   "source": [
    "x = np.diag((1, 2, 3))\n"
   ]
  },
  {
   "cell_type": "markdown",
   "metadata": {
    "id": "nW51w7LYUZtf"
   },
   "source": [
    "Q9. Predict the results of the following code."
   ]
  },
  {
   "cell_type": "code",
   "execution_count": null,
   "metadata": {
    "id": "Hp15ULm-UZtf"
   },
   "outputs": [],
   "source": [
    "#print np.array_equal(np.dot(x, eigenvecs), eigenvals * eigenvecs)"
   ]
  },
  {
   "cell_type": "markdown",
   "metadata": {
    "id": "rFiMponPUZtf"
   },
   "source": [
    "## Norms and other numbers"
   ]
  },
  {
   "cell_type": "markdown",
   "metadata": {
    "id": "vaDLa9jJUZtg"
   },
   "source": [
    "Q10. Calculate the Frobenius norm and the condition number of x."
   ]
  },
  {
   "cell_type": "code",
   "execution_count": null,
   "metadata": {
    "id": "ZpycFmskUZtg",
    "outputId": "f191d5b0-00d7-4198-ab04-6cb6fc00d6a6"
   },
   "outputs": [
    {
     "name": "stdout",
     "output_type": "stream",
     "text": [
      "16.8819430161\n",
      "4.56177073661e+17\n"
     ]
    }
   ],
   "source": [
    "x = np.arange(1, 10).reshape((3, 3))\n"
   ]
  },
  {
   "cell_type": "markdown",
   "metadata": {
    "id": "lGYr5G5jUZtg"
   },
   "source": [
    "Q11. Calculate the determinant of x."
   ]
  },
  {
   "cell_type": "code",
   "execution_count": null,
   "metadata": {
    "id": "ygaUV95SUZtg",
    "outputId": "b49a6132-9e49-4785-a224-7165c70ef54a"
   },
   "outputs": [
    {
     "name": "stdout",
     "output_type": "stream",
     "text": [
      "-2.0\n"
     ]
    }
   ],
   "source": [
    "x = np.arange(1, 5).reshape((2, 2))\n"
   ]
  },
  {
   "cell_type": "markdown",
   "metadata": {
    "id": "zTnS28K1UZtg"
   },
   "source": [
    "Q12. Calculate the rank of x."
   ]
  },
  {
   "cell_type": "code",
   "execution_count": null,
   "metadata": {
    "id": "Nuj_l-b8UZtg",
    "outputId": "59a38b39-29bb-4831-a2b1-bb6c71c99dab"
   },
   "outputs": [
    {
     "name": "stdout",
     "output_type": "stream",
     "text": [
      "4\n"
     ]
    }
   ],
   "source": [
    "x = np.eye(4)\n"
   ]
  },
  {
   "cell_type": "markdown",
   "metadata": {
    "id": "ew3YVSVDUZtg"
   },
   "source": [
    "Q13. Compute the sign and natural logarithm of the determinant of x."
   ]
  },
  {
   "cell_type": "code",
   "execution_count": null,
   "metadata": {
    "id": "CmR2wiH0UZtg",
    "outputId": "f7f1d8c8-d1cd-444c-cb0a-fb4d3a5f4a73"
   },
   "outputs": [
    {
     "name": "stdout",
     "output_type": "stream",
     "text": [
      "-1.0 0.69314718056\n"
     ]
    }
   ],
   "source": [
    "x = np.arange(1, 5).reshape((2, 2))\n",
    "\n"
   ]
  },
  {
   "cell_type": "markdown",
   "metadata": {
    "id": "jUbHCHbmUZtg"
   },
   "source": [
    "Q14. Return the sum along the diagonal of x."
   ]
  },
  {
   "cell_type": "code",
   "execution_count": null,
   "metadata": {
    "id": "8qc5354YUZtg",
    "outputId": "8f208b70-034d-482b-ef6d-a4a2b076633a"
   },
   "outputs": [
    {
     "name": "stdout",
     "output_type": "stream",
     "text": [
      "4.0\n"
     ]
    }
   ],
   "source": [
    "x = np.eye(4)\n"
   ]
  },
  {
   "cell_type": "markdown",
   "metadata": {
    "id": "m736wz1QUZtg"
   },
   "source": [
    "## Solving equations and inverting matrices"
   ]
  },
  {
   "cell_type": "markdown",
   "metadata": {
    "collapsed": false,
    "id": "N884qGTNUZtg"
   },
   "source": [
    "Q15. Compute the inverse of x."
   ]
  },
  {
   "cell_type": "code",
   "execution_count": null,
   "metadata": {
    "id": "z6c9ZZxRUZtg",
    "outputId": "b352eb1b-fad4-4dfa-cb3b-d50a881afc5a"
   },
   "outputs": [
    {
     "name": "stdout",
     "output_type": "stream",
     "text": [
      "[[-2.   1. ]\n",
      " [ 1.5 -0.5]]\n"
     ]
    }
   ],
   "source": [
    "x = np.array([[1., 2.], [3., 4.]])\n",
    "\n"
   ]
  },
  {
   "cell_type": "code",
   "execution_count": null,
   "metadata": {
    "collapsed": true,
    "id": "SGCJMUQrUZtg"
   },
   "outputs": [],
   "source": [
    "# Placeholder code for completion\n",
    "print('Code completed!')"
   ]
  }
 ],
 "metadata": {
  "colab": {
   "provenance": []
  },
  "kernelspec": {
   "display_name": "Python 2",
   "language": "python",
   "name": "python2"
  },
  "language_info": {
   "codemirror_mode": {
    "name": "ipython",
    "version": 2
   },
   "file_extension": ".py",
   "mimetype": "text/x-python",
   "name": "python",
   "nbconvert_exporter": "python",
   "pygments_lexer": "ipython2",
   "version": "2.7.10"
  }
 },
 "nbformat": 4,
 "nbformat_minor": 0
}
