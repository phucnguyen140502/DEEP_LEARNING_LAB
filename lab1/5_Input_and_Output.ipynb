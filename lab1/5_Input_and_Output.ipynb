{
 "cells": [
  {
   "cell_type": "markdown",
   "metadata": {
    "id": "zgK85-2yUS0w"
   },
   "source": [
    "# Input and Output"
   ]
  },
  {
   "cell_type": "code",
   "execution_count": null,
   "metadata": {
    "collapsed": true,
    "id": "KSFqUmh6US0x"
   },
   "outputs": [],
   "source": [
    "from __future__ import print_function\n",
    "import numpy as np"
   ]
  },
  {
   "cell_type": "code",
   "execution_count": null,
   "metadata": {
    "id": "eljaVwjjUS0z"
   },
   "outputs": [],
   "source": [
    "from datetime import date\n",
    "print(date.today())"
   ]
  },
  {
   "cell_type": "markdown",
   "metadata": {
    "id": "VR5bWMTzUS0z"
   },
   "source": [
    "## NumPy binary files (NPY, NPZ)"
   ]
  },
  {
   "cell_type": "markdown",
   "metadata": {
    "id": "ou9LgNgRUS0z"
   },
   "source": [
    "Q1. Save x into `temp.npy` and load it."
   ]
  },
  {
   "cell_type": "code",
   "execution_count": null,
   "metadata": {
    "id": "ctZL9ymOUS0z",
    "outputId": "d157496a-9eab-4d8a-84c4-3c91d29fc324"
   },
   "outputs": [
    {
     "name": "stdout",
     "output_type": "stream",
     "text": [
      "True\n"
     ]
    }
   ],
   "source": [
    "x = np.arange(10)\n",
    "...\n",
    "\n",
    "# Check if there exists the 'temp.npy' file.\n",
    "import os\n",
    "if os.path.exists('temp.npy'):\n",
    "    x2 = ...\n",
    "    print(np.array_equal(x, x2))\n"
   ]
  },
  {
   "cell_type": "markdown",
   "metadata": {
    "id": "m31sFOhsUS00"
   },
   "source": [
    "Q2. Save x and y into a single file 'temp.npz' and load it."
   ]
  },
  {
   "cell_type": "code",
   "execution_count": null,
   "metadata": {
    "id": "egxO7tOkUS00",
    "outputId": "ba4136c3-7a34-4542-e049-2703d8c6e931"
   },
   "outputs": [
    {
     "name": "stdout",
     "output_type": "stream",
     "text": [
      "True\n",
      "True\n"
     ]
    }
   ],
   "source": [
    "x = np.arange(10)\n",
    "y = np.arange(11, 20)\n",
    "...\n",
    "\n",
    "with ... as data:\n",
    "    x2 = data['x']\n",
    "    y2 = data['y']\n",
    "    print(np.array_equal(x, x2))\n",
    "    print(np.array_equal(y, y2))\n"
   ]
  },
  {
   "cell_type": "markdown",
   "metadata": {
    "id": "l7cydm2SUS00"
   },
   "source": [
    "## Text files"
   ]
  },
  {
   "cell_type": "markdown",
   "metadata": {
    "id": "1ny4f9loUS00"
   },
   "source": [
    "Q3. Save x to 'temp.txt' in string format and load it."
   ]
  },
  {
   "cell_type": "code",
   "execution_count": null,
   "metadata": {
    "id": "kE05YQLDUS00",
    "outputId": "a3ef7bb1-8d08-47ce-9d96-1addfcf745c4"
   },
   "outputs": [
    {
     "data": {
      "text/plain": [
       "array([[ 0.,  1.,  2.,  3.,  4.],\n",
       "       [ 5.,  6.,  7.,  8.,  9.]])"
      ]
     },
     "execution_count": 7,
     "metadata": {},
     "output_type": "execute_result"
    }
   ],
   "source": [
    "x = np.arange(10).reshape(2, 5)\n",
    "header = 'num1 num2 num3 num4 num5'\n",
    "...\n",
    "..."
   ]
  },
  {
   "cell_type": "markdown",
   "metadata": {
    "id": "UBeRAVilUS00"
   },
   "source": [
    "Q4. Save `x`, `y`, and `z` to 'temp.txt' in string format line by line, then load it."
   ]
  },
  {
   "cell_type": "code",
   "execution_count": null,
   "metadata": {
    "id": "FFDgp8pOUS00",
    "outputId": "1bea9ef1-9817-4d1f-c9a6-53c4e6e03b83"
   },
   "outputs": [
    {
     "data": {
      "text/plain": [
       "array([[  0.,   1.,   2.,   3.,   4.,   5.,   6.,   7.,   8.,   9.],\n",
       "       [ 11.,  12.,  13.,  14.,  15.,  16.,  17.,  18.,  19.,  20.],\n",
       "       [ 22.,  23.,  24.,  25.,  26.,  27.,  28.,  29.,  30.,  31.]])"
      ]
     },
     "execution_count": 8,
     "metadata": {},
     "output_type": "execute_result"
    }
   ],
   "source": [
    "x = np.arange(10)\n",
    "y = np.arange(11, 21)\n",
    "z = np.arange(22, 32)\n",
    "...\n",
    "..."
   ]
  },
  {
   "cell_type": "markdown",
   "metadata": {
    "id": "7hNdrsAZUS01"
   },
   "source": [
    "Q5. Convert `x` into bytes, and load it as array."
   ]
  },
  {
   "cell_type": "code",
   "execution_count": null,
   "metadata": {
    "id": "x5vSyJJwUS01",
    "outputId": "53331828-8b5d-4bfb-bc0f-33672b87995a"
   },
   "outputs": [
    {
     "name": "stdout",
     "output_type": "stream",
     "text": [
      "True\n"
     ]
    }
   ],
   "source": [
    "x = np.array([1, 2, 3, 4])\n",
    "x_bytes = ...\n",
    "x2 = ...\n",
    "print(np.array_equal(x, x2))\n"
   ]
  },
  {
   "cell_type": "markdown",
   "metadata": {
    "id": "--aKIR7NUS01"
   },
   "source": [
    "Q6. Convert `a` into an ndarray and then convert it into a list again."
   ]
  },
  {
   "cell_type": "code",
   "execution_count": null,
   "metadata": {
    "id": "0HV1kdDSUS01",
    "outputId": "ceb9ef86-dcdb-4872-dc07-57457252574d"
   },
   "outputs": [
    {
     "name": "stdout",
     "output_type": "stream",
     "text": [
      "True\n"
     ]
    }
   ],
   "source": [
    "a = [[1, 2], [3, 4]]\n",
    "x = ...\n",
    "a2 = ...\n",
    "print(a == a2)"
   ]
  },
  {
   "cell_type": "markdown",
   "metadata": {
    "id": "xX0ZducEUS01"
   },
   "source": [
    "## String formatting¶"
   ]
  },
  {
   "cell_type": "markdown",
   "metadata": {
    "id": "Gmeu1QzlUS09"
   },
   "source": [
    "Q7. Convert `x` to a string, and revert it."
   ]
  },
  {
   "cell_type": "code",
   "execution_count": null,
   "metadata": {
    "id": "jnKr7N0NUS09",
    "outputId": "da380d7f-e061-464a-a3b3-c668454cda78"
   },
   "outputs": [
    {
     "name": "stdout",
     "output_type": "stream",
     "text": [
      "[[0 1 2 3 4]\n",
      " [5 6 7 8 9]] \n",
      " <class 'str'>\n"
     ]
    }
   ],
   "source": [
    "x = np.arange(10).reshape(2,5)\n",
    "x_str = ...\n",
    "print(x_str, \"\\n\", type(x_str))\n",
    "x_str = x_str.replace(\"[\", \"\") # [] must be stripped\n",
    "x_str = x_str.replace(\"]\", \"\")\n",
    "x2 = ...\n",
    "assert np.array_equal(x, x2)\n",
    "\n"
   ]
  },
  {
   "cell_type": "markdown",
   "metadata": {
    "id": "5F9lm6WZUS09"
   },
   "source": [
    "## Text formatting options"
   ]
  },
  {
   "cell_type": "markdown",
   "metadata": {
    "id": "UTwilEkEUS09"
   },
   "source": [
    "Q8. Print `x` such that all elements are displayed with precision=1, no suppress."
   ]
  },
  {
   "cell_type": "code",
   "execution_count": null,
   "metadata": {
    "id": "i2ehb9kWUS09",
    "outputId": "826f0bec-5124-425d-9234-fe0a19dac82d"
   },
   "outputs": [
    {
     "name": "stdout",
     "output_type": "stream",
     "text": [
      "[[ 0.8  0.5  0.9  0.   0.6  0.6  0.5  0.5  0.9  0.9  0.3  0.6  0.9  0.8\n",
      "   0.1  0.5  0.3  0.9  0.1  0.8  0.3  0.   0.4  0.5  0.4  0.6  0.2  0.6\n",
      "   0.6  0.5  0.7  0.4  0.1  0.6  0.7  0.3  0.1  0.5  0.1  0.5  0.   0.8  1.\n",
      "   0.5  0.3  0.9  0.3  0.6  0.9  0.   0.4  0.5  0.9  0.3  0.9  0.2  0.9\n",
      "   0.4  0.8  0.5  0.2  0.1  0.2  0.7  0.6  0.3  0.6  0.8  0.7  0.2  0.2\n",
      "   0.4  0.6  0.4  1.   0.   0.2  0.4  0.8  0.5  0.4  0.4  0.6  0.2  0.2\n",
      "   0.8  0.1  0.9  0.7  0.3  1.   0.6  0.7  0.4  0.1  0.9  0.2  0.4  0.1\n",
      "   0.3]\n",
      " [ 0.5  0.9  0.2  0.1  0.   0.4  0.5  0.3  0.5  0.8  0.2  0.5  0.9  0.4\n",
      "   0.2  0.8  0.3  0.1  0.8  0.5  0.2  0.   0.7  0.7  0.6  0.7  0.1  0.2\n",
      "   0.6  0.2  0.4  0.2  0.2  0.1  0.4  0.4  0.9  0.6  0.3  0.4  0.9  0.1\n",
      "   0.6  0.7  0.7  0.2  0.5  0.3  0.3  0.8  0.   0.1  0.3  0.9  0.8  0.9\n",
      "   0.3  0.5  0.5  0.7  0.5  0.8  0.2  0.9  0.1  1.   0.5  0.3  0.7  0.2\n",
      "   0.9  0.3  0.6  0.4  1.   0.2  1.   0.7  0.8  0.6  0.9  0.9  0.4  1.   0.3\n",
      "   0.7  0.   0.3  0.2  0.4  0.1  0.6  0.2  0.4  0.7  0.3  0.   0.7  0.1\n",
      "   0.5]\n",
      " [ 0.7  0.1  0.6  0.2  0.9  0.8  0.5  0.6  0.9  0.8  0.4  0.1  0.1  0.7\n",
      "   0.7  0.8  0.1  0.8  0.4  0.2  0.6  0.8  1.   0.8  0.6  0.8  0.3  0.1\n",
      "   0.5  0.5  0.4  0.2  0.8  0.4  0.4  0.6  0.9  0.7  0.8  0.5  1.   0.3\n",
      "   0.4  0.7  0.5  0.3  1.   0.3  0.1  0.6  0.2  0.   0.2  0.8  0.7  0.7\n",
      "   0.6  0.4  0.7  0.7  0.5  0.1  0.9  0.   0.1  0.3  0.3  0.1  0.6  0.5\n",
      "   0.4  0.1  0.3  0.2  0.1  0.7  0.3  0.8  0.8  0.9  0.7  0.5  0.   0.9\n",
      "   0.5  0.6  1.   0.9  0.8  0.   0.7  0.3  0.4  0.2  0.3  0.4  0.9  0.4  1.\n",
      "   0.2]\n",
      " [ 1.   0.1  0.8  0.   0.4  0.2  0.2  0.8  0.1  0.2  0.1  0.9  0.9  0.9\n",
      "   0.5  0.7  0.8  0.6  0.1  0.2  0.2  0.5  0.4  0.6  1.   0.1  0.8  0.5\n",
      "   0.3  0.6  0.6  1.   0.5  0.4  0.3  0.8  0.7  0.4  0.1  1.   0.6  0.3\n",
      "   0.7  0.4  0.5  1.   0.6  0.8  0.5  0.6  1.   0.7  0.2  0.6  0.4  0.   0.8\n",
      "   0.5  0.5  0.2  0.8  0.2  0.4  0.5  0.2  0.   0.8  0.4  0.4  0.4  0.4\n",
      "   0.4  0.8  0.4  0.1  0.9  0.1  0.8  0.2  0.7  1.   0.3  0.1  0.9  0.3\n",
      "   0.1  0.1  0.4  0.5  0.5  0.6  0.2  0.2  0.4  0.5  0.6  0.3  0.2  0.6\n",
      "   0.7]\n",
      " [ 0.1  0.5  0.4  0.1  0.1  0.9  0.5  0.9  0.8  0.8  0.8  0.4  0.4  0.7  0.\n",
      "   0.4  0.   0.4  0.7  0.7  0.7  0.8  0.9  0.   0.6  0.8  1.   0.5  0.   0.9\n",
      "   0.9  1.   0.6  0.4  0.4  0.8  0.9  0.2  0.1  0.2  0.7  0.8  0.2  0.1\n",
      "   0.9  0.9  0.4  0.6  0.7  0.4  0.6  0.2  0.9  0.9  0.3  0.7  0.6  0.2\n",
      "   0.3  0.8  0.6  0.6  0.1  0.3  0.2  0.6  0.3  0.7  0.4  0.5  0.3  0.4\n",
      "   0.4  0.9  0.6  0.6  0.3  0.1  0.3  0.8  0.3  0.7  0.4  0.5  0.4  0.7\n",
      "   0.6  0.1  0.8  0.2  0.6  0.1  1.   0.8  0.2  0.6  0.9  0.2  0.4  0.4]\n",
      " [ 0.4  0.5  0.5  0.7  0.3  0.7  0.2  0.3  0.6  0.9  0.7  0.3  0.1  0.4\n",
      "   0.6  0.8  0.3  0.2  0.4  0.2  0.8  0.4  0.2  0.9  0.2  0.9  0.8  0.5\n",
      "   0.9  0.7  0.2  0.5  0.3  0.7  0.6  0.   0.3  0.5  0.6  0.8  0.5  0.9\n",
      "   0.2  0.1  0.3  0.9  0.3  0.3  0.6  0.5  0.3  1.   0.2  0.9  0.7  0.9\n",
      "   0.2  0.1  0.1  0.4  0.1  0.7  0.4  0.2  0.3  0.4  0.7  1.   0.9  0.5\n",
      "   0.1  0.9  0.5  0.1  0.4  0.9  0.7  0.3  0.5  0.3  0.3  1.   0.7  0.8\n",
      "   0.3  0.6  0.3  0.6  0.7  0.7  0.   0.7  0.6  0.1  0.9  1.   0.1  0.1\n",
      "   0.2  0.7]\n",
      " [ 0.1  0.1  0.4  0.6  1.   0.4  0.1  0.4  0.5  0.   0.3  0.3  0.7  0.4\n",
      "   0.7  0.8  0.   0.8  0.1  0.9  0.7  0.9  0.9  0.6  0.2  0.2  0.4  0.5\n",
      "   0.3  0.1  0.6  0.8  0.9  0.5  0.4  0.4  0.6  0.3  0.5  0.4  0.7  0.2\n",
      "   0.4  0.3  0.6  0.8  0.8  1.   0.5  0.7  0.6  1.   0.5  0.1  0.2  0.1\n",
      "   0.4  0.3  0.5  0.3  0.5  0.6  0.2  0.3  0.8  0.5  0.6  0.9  0.8  0.3\n",
      "   0.3  0.5  0.2  0.1  0.5  0.4  0.4  0.6  0.2  0.5  0.8  0.2  0.4  0.6\n",
      "   0.2  0.3  0.4  0.8  0.3  0.2  0.6  0.5  0.4  0.3  0.4  0.6  0.1  0.6\n",
      "   0.9  0.9]\n",
      " [ 0.6  0.6  0.1  0.4  0.6  0.8  0.   0.5  0.9  0.4  0.6  0.5  0.5  0.7\n",
      "   0.9  0.7  0.1  0.4  0.3  0.5  0.3  0.5  0.3  1.   0.4  0.5  0.1  0.4\n",
      "   0.3  0.6  0.6  0.3  0.4  0.8  0.5  0.4  0.   0.   0.8  0.7  0.9  0.5\n",
      "   0.2  0.2  0.1  0.3  0.2  0.6  0.7  0.2  0.9  0.2  0.3  0.5  0.4  0.2\n",
      "   0.9  0.8  0.1  0.2  0.8  0.3  0.9  0.6  0.3  0.   0.6  0.   0.1  0.7\n",
      "   0.7  0.2  0.8  0.4  0.4  0.6  0.2  0.3  0.4  0.5  0.9  0.3  0.   0.6\n",
      "   0.4  0.9  0.6  0.3  1.   0.9  0.6  0.9  0.   0.5  0.2  0.4  1.   0.5\n",
      "   0.7  0.9]\n",
      " [ 0.3  0.2  0.9  0.4  0.8  0.8  1.   0.1  0.8  0.1  0.1  0.7  0.5  0.6\n",
      "   0.1  0.5  0.5  0.4  0.2  0.8  0.   0.4  0.2  0.1  0.4  1.   0.1  0.   0.7\n",
      "   0.1  0.4  0.3  0.7  0.4  0.5  0.5  0.   0.2  0.2  0.9  0.9  0.8  0.1\n",
      "   0.3  0.3  0.   0.7  0.   0.8  0.5  0.5  0.3  0.3  0.1  1.   0.   0.9\n",
      "   0.8  0.6  0.9  0.5  1.   0.5  0.   0.   0.1  0.6  0.7  0.1  0.6  0.4\n",
      "   0.5  0.2  0.4  0.5  0.8  0.6  0.3  1.   0.9  0.6  0.1  0.7  0.   0.7\n",
      "   0.4  0.6  0.3  0.5  0.9  0.4  0.8  0.8  0.2  0.3  0.5  0.1  0.5  0.6\n",
      "   0.8]\n",
      " [ 0.4  0.6  0.6  1.   0.3  0.6  0.6  0.1  0.1  0.9  0.1  0.9  0.5  1.   0.6\n",
      "   0.1  0.8  0.1  0.4  0.1  0.7  0.9  0.7  0.4  0.3  0.5  0.5  0.4  0.   0.7\n",
      "   0.7  0.3  0.9  1.   0.7  0.   0.2  1.   0.6  0.3  0.3  0.1  0.7  0.5\n",
      "   0.3  0.7  0.1  0.9  0.6  0.9  0.3  0.1  0.9  1.   0.1  1.   0.6  0.7\n",
      "   0.5  0.6  1.   0.9  0.2  0.2  0.3  0.4  0.6  0.1  0.4  0.   0.9  0.4\n",
      "   0.9  0.7  0.1  1.   0.7  0.1  0.7  0.2  0.9  0.7  0.1  0.1  0.9  0.6\n",
      "   0.1  0.1  0.2  0.6  0.8  0.9  0.2  0.1  0.2  0.3  0.5  0.7  0.8  0.8]]\n"
     ]
    }
   ],
   "source": [
    "x = np.random.uniform(size=[10,100])\n",
    "np.set_printoptions(...)\n",
    "print(x)"
   ]
  },
  {
   "cell_type": "markdown",
   "metadata": {
    "id": "qiweXujpUS09"
   },
   "source": [
    "## Base-n representations"
   ]
  },
  {
   "cell_type": "markdown",
   "metadata": {
    "id": "UkP_ZZMVUS09"
   },
   "source": [
    "Q9. Convert 12 into a binary number in string format."
   ]
  },
  {
   "cell_type": "code",
   "execution_count": null,
   "metadata": {
    "id": "AOJlhgQ7US0-",
    "outputId": "4558d053-9c1a-4c2a-93b2-fe2a9235e685"
   },
   "outputs": [
    {
     "name": "stdout",
     "output_type": "stream",
     "text": [
      "1100\n"
     ]
    }
   ],
   "source": [
    "# Placeholder code for completion\n",
    "print('Code completed!')"
   ]
  },
  {
   "cell_type": "markdown",
   "metadata": {
    "id": "atO5rVUMUS0-"
   },
   "source": [
    "Q10. Convert 12 into a hexadecimal number in string format."
   ]
  },
  {
   "cell_type": "code",
   "execution_count": null,
   "metadata": {
    "id": "K64V2ayHUS0-",
    "outputId": "677201d0-8f1c-42e6-b656-3145f64e4824"
   },
   "outputs": [
    {
     "data": {
      "text/plain": [
       "'44C'"
      ]
     },
     "execution_count": 14,
     "metadata": {},
     "output_type": "execute_result"
    }
   ],
   "source": [
    "# Placeholder code for completion\n",
    "print('Code completed!')"
   ]
  }
 ],
 "metadata": {
  "anaconda-cloud": {},
  "colab": {
   "provenance": []
  },
  "kernelspec": {
   "display_name": "Python [conda root]",
   "language": "python",
   "name": "conda-root-py"
  },
  "language_info": {
   "codemirror_mode": {
    "name": "ipython",
    "version": 3
   },
   "file_extension": ".py",
   "mimetype": "text/x-python",
   "name": "python",
   "nbconvert_exporter": "python",
   "pygments_lexer": "ipython3",
   "version": "3.5.2"
  }
 },
 "nbformat": 4,
 "nbformat_minor": 0
}
