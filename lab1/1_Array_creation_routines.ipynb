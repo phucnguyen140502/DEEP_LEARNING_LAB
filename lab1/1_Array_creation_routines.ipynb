{
  "cells": [
    {
      "cell_type": "markdown",
      "metadata": {
        "id": "GtTBnNHOTsku"
      },
      "source": [
        "# Array creation routines"
      ]
    },
    {
      "cell_type": "markdown",
      "metadata": {
        "id": "i6q6i0tgTskw"
      },
      "source": [
        "## Ones and zeros"
      ]
    },
    {
      "cell_type": "code",
      "execution_count": 2,
      "metadata": {
        "collapsed": true,
        "id": "531Ay0DLTskw"
      },
      "outputs": [],
      "source": [
        "import numpy as np"
      ]
    },
    {
      "cell_type": "markdown",
      "metadata": {
        "id": "axSiGCwwTskx"
      },
      "source": [
        "Create a new array of 2*2 integers, without initializing entries.\n",
        "\n"
      ]
    },
    {
      "cell_type": "code",
      "source": [
        "x = np.zeros([2,2], int)\n",
        "x"
      ],
      "metadata": {
        "colab": {
          "base_uri": "https://localhost:8080/"
        },
        "id": "sZDgQnU_oyHF",
        "outputId": "1ea7c7cc-b10d-4968-f849-75df2bc3f598"
      },
      "execution_count": 6,
      "outputs": [
        {
          "output_type": "execute_result",
          "data": {
            "text/plain": [
              "array([[0, 0],\n",
              "       [0, 0]])"
            ]
          },
          "metadata": {},
          "execution_count": 6
        }
      ]
    },
    {
      "cell_type": "markdown",
      "metadata": {
        "id": "tougp4RxTsky"
      },
      "source": [
        "Let X = np.array([1,2,3], [4,5,6], np.int32).\n",
        "Create a new array with the same shape and type as X."
      ]
    },
    {
      "cell_type": "code",
      "execution_count": 7,
      "metadata": {
        "id": "tfVoOPdvTsky"
      },
      "outputs": [],
      "source": [
        "X = np.array([[1,2,3], [4,5,6]], np.int32)\n"
      ]
    },
    {
      "cell_type": "markdown",
      "metadata": {
        "id": "wyizUFVaTsky"
      },
      "source": [
        "Create a 3-D array with ones on the diagonal and zeros elsewhere."
      ]
    },
    {
      "cell_type": "code",
      "execution_count": 8,
      "metadata": {
        "id": "p4HG1zKJTskz",
        "outputId": "f44d8511-1b17-4705-e086-d36c73d6cae4",
        "colab": {
          "base_uri": "https://localhost:8080/"
        }
      },
      "outputs": [
        {
          "output_type": "execute_result",
          "data": {
            "text/plain": [
              "array([[1., 0., 0.],\n",
              "       [0., 1., 0.],\n",
              "       [0., 0., 1.]])"
            ]
          },
          "metadata": {},
          "execution_count": 8
        }
      ],
      "source": [
        "y = np.eye(3)\n",
        "y"
      ]
    },
    {
      "cell_type": "markdown",
      "metadata": {
        "id": "M8Y7KIpvTskz"
      },
      "source": [
        "Create a new array of 3*2 float numbers, filled with ones."
      ]
    },
    {
      "cell_type": "code",
      "execution_count": 10,
      "metadata": {
        "id": "M7wF5yffTskz",
        "outputId": "5c0c11d7-63b3-46bc-f697-5bc18a4f9d5b",
        "colab": {
          "base_uri": "https://localhost:8080/"
        }
      },
      "outputs": [
        {
          "output_type": "execute_result",
          "data": {
            "text/plain": [
              "array([[1., 1.],\n",
              "       [1., 1.],\n",
              "       [1., 1.]])"
            ]
          },
          "metadata": {},
          "execution_count": 10
        }
      ],
      "source": [
        "z = np.ones([3,2], float)\n",
        "z"
      ]
    },
    {
      "cell_type": "markdown",
      "metadata": {
        "id": "u2TOb0GMTskz"
      },
      "source": [
        "Let x = np.arange(4, dtype=np.int64). Create an array of ones with the same shape and type as X."
      ]
    },
    {
      "cell_type": "code",
      "execution_count": 12,
      "metadata": {
        "id": "KF0XIai4Tskz",
        "outputId": "3d52ed10-8b1b-414c-ee30-5e153f6054b2",
        "colab": {
          "base_uri": "https://localhost:8080/"
        }
      },
      "outputs": [
        {
          "output_type": "execute_result",
          "data": {
            "text/plain": [
              "array([0, 1, 2, 3])"
            ]
          },
          "metadata": {},
          "execution_count": 12
        }
      ],
      "source": [
        "x = np.arange(4, dtype=np.int64)\n",
        "x"
      ]
    },
    {
      "cell_type": "markdown",
      "metadata": {
        "id": "pvrNdTvVTsk0"
      },
      "source": [
        "Create a new array of 3*2 float numbers, filled with zeros."
      ]
    },
    {
      "cell_type": "code",
      "execution_count": 14,
      "metadata": {
        "id": "HgXYNxPKTsk0",
        "outputId": "36e043ea-5e26-4b6c-ae4c-d43242a56e41",
        "colab": {
          "base_uri": "https://localhost:8080/"
        }
      },
      "outputs": [
        {
          "output_type": "execute_result",
          "data": {
            "text/plain": [
              "array([[0., 0.],\n",
              "       [0., 0.],\n",
              "       [0., 0.]])"
            ]
          },
          "metadata": {},
          "execution_count": 14
        }
      ],
      "source": [
        "z = np.zeros([3,2], float)\n",
        "z"
      ]
    },
    {
      "cell_type": "markdown",
      "metadata": {
        "id": "nP34r9pvTsk0"
      },
      "source": [
        "Let x = np.arange(4, dtype=np.int64). Create an array of zeros with the same shape and type as X."
      ]
    },
    {
      "cell_type": "code",
      "execution_count": 15,
      "metadata": {
        "id": "kbdgpAZ2Tsk0",
        "outputId": "9768c96e-c4f2-48d8-836c-491f8e636ff8",
        "colab": {
          "base_uri": "https://localhost:8080/"
        }
      },
      "outputs": [
        {
          "output_type": "execute_result",
          "data": {
            "text/plain": [
              "array([0, 1, 2, 3])"
            ]
          },
          "metadata": {},
          "execution_count": 15
        }
      ],
      "source": [
        "x = np.arange(4, dtype=np.int64)\n",
        "x"
      ]
    },
    {
      "cell_type": "markdown",
      "metadata": {
        "id": "tM_cgVCCTsk0"
      },
      "source": [
        "Create a new array of 2*5 uints, filled with 6."
      ]
    },
    {
      "cell_type": "code",
      "execution_count": 16,
      "metadata": {
        "id": "quTwyED7Tsk0",
        "outputId": "f2ecbc85-d32a-4c69-b0d2-411712ef8616",
        "colab": {
          "base_uri": "https://localhost:8080/"
        }
      },
      "outputs": [
        {
          "output_type": "execute_result",
          "data": {
            "text/plain": [
              "array([[6, 6, 6, 6, 6],\n",
              "       [6, 6, 6, 6, 6]], dtype=uint32)"
            ]
          },
          "metadata": {},
          "execution_count": 16
        }
      ],
      "source": [
        "x = np.full((2, 5), 6, dtype=np.uint32)\n",
        "x"
      ]
    },
    {
      "cell_type": "markdown",
      "metadata": {
        "id": "YVl-gJmwTsk0"
      },
      "source": [
        "Let x = np.arange(4, dtype=np.int64). Create an array of 6's with the same shape and type as X."
      ]
    },
    {
      "cell_type": "code",
      "source": [
        "x = np.arange(4, dtype=np.int64)\n",
        "np.full_like(x, 6)"
      ],
      "metadata": {
        "colab": {
          "base_uri": "https://localhost:8080/"
        },
        "id": "cwWdjjPYqmnk",
        "outputId": "c0fe0638-e0b1-4003-d7e9-f9cd562cd135"
      },
      "execution_count": 19,
      "outputs": [
        {
          "output_type": "execute_result",
          "data": {
            "text/plain": [
              "array([6, 6, 6, 6])"
            ]
          },
          "metadata": {},
          "execution_count": 19
        }
      ]
    },
    {
      "cell_type": "markdown",
      "metadata": {
        "id": "lrckdHGPTsk0"
      },
      "source": [
        "## From existing data"
      ]
    },
    {
      "cell_type": "markdown",
      "metadata": {
        "id": "NYrhcjn0Tsk0"
      },
      "source": [
        "Create an array of [1, 2, 3]."
      ]
    },
    {
      "cell_type": "code",
      "execution_count": 20,
      "metadata": {
        "id": "qijnAck9Tsk0",
        "outputId": "2ba487fd-8f7a-4107-9b35-58f03528519c",
        "colab": {
          "base_uri": "https://localhost:8080/"
        }
      },
      "outputs": [
        {
          "output_type": "execute_result",
          "data": {
            "text/plain": [
              "array([1, 2, 3])"
            ]
          },
          "metadata": {},
          "execution_count": 20
        }
      ],
      "source": [
        "arr = np.array([1, 2, 3])\n",
        "arr"
      ]
    },
    {
      "cell_type": "markdown",
      "metadata": {
        "id": "wiOPUG6VTsk0"
      },
      "source": [
        "Let x = [1, 2]. Convert it into an array."
      ]
    },
    {
      "cell_type": "code",
      "execution_count": 21,
      "metadata": {
        "id": "Fj8iFvqWTsk0",
        "outputId": "0f9d52b1-f96c-4c59-acb5-7b2635f06e26",
        "colab": {
          "base_uri": "https://localhost:8080/"
        }
      },
      "outputs": [
        {
          "output_type": "execute_result",
          "data": {
            "text/plain": [
              "array([1, 2])"
            ]
          },
          "metadata": {},
          "execution_count": 21
        }
      ],
      "source": [
        "x = [1,2]\n",
        "np.array(x)"
      ]
    },
    {
      "cell_type": "markdown",
      "metadata": {
        "id": "_wyIyS0ITsk0"
      },
      "source": [
        "Let X = np.array([[1, 2], [3, 4]]). Convert it into a matrix."
      ]
    },
    {
      "cell_type": "code",
      "source": [
        "X = np.array([[1, 2], [3, 4]])\n",
        "matrix_X = np.matrix(X)\n",
        "matrix_X"
      ],
      "metadata": {
        "colab": {
          "base_uri": "https://localhost:8080/"
        },
        "id": "5l20FzxQrBcF",
        "outputId": "e27061d7-b7ac-43f8-a837-47684ea6c0a3"
      },
      "execution_count": 22,
      "outputs": [
        {
          "output_type": "execute_result",
          "data": {
            "text/plain": [
              "matrix([[1, 2],\n",
              "        [3, 4]])"
            ]
          },
          "metadata": {},
          "execution_count": 22
        }
      ]
    },
    {
      "cell_type": "markdown",
      "metadata": {
        "id": "YoGGxiCmTsk1"
      },
      "source": [
        "Let x = [1, 2]. Conver it into an array of `float`."
      ]
    },
    {
      "cell_type": "code",
      "execution_count": 23,
      "metadata": {
        "id": "_Kaqsv9kTsk1",
        "outputId": "87d7024b-f1c4-451a-d344-9af64ae00931",
        "colab": {
          "base_uri": "https://localhost:8080/"
        }
      },
      "outputs": [
        {
          "output_type": "execute_result",
          "data": {
            "text/plain": [
              "array([1., 2.])"
            ]
          },
          "metadata": {},
          "execution_count": 23
        }
      ],
      "source": [
        "x = [1, 2]\n",
        "np.array(x, float)"
      ]
    },
    {
      "cell_type": "markdown",
      "metadata": {
        "id": "nw7IVyrtTsk1"
      },
      "source": [
        "Let x = np.array([30]). Convert it into scalar of its single element, i.e. 30."
      ]
    },
    {
      "cell_type": "code",
      "source": [
        "x = np.array([30])\n",
        "x = x[0]\n",
        "x\n"
      ],
      "metadata": {
        "colab": {
          "base_uri": "https://localhost:8080/"
        },
        "id": "ixwLV3pQrPCM",
        "outputId": "18ccb6f8-cf0c-4796-8b07-71c2b76a0c23"
      },
      "execution_count": 24,
      "outputs": [
        {
          "output_type": "execute_result",
          "data": {
            "text/plain": [
              "30"
            ]
          },
          "metadata": {},
          "execution_count": 24
        }
      ]
    },
    {
      "cell_type": "markdown",
      "metadata": {
        "id": "pKn5Yfs1Tsk1"
      },
      "source": [
        "Let x = np.array([1, 2, 3]). Create a array copy of x, which has a different id from x."
      ]
    },
    {
      "cell_type": "code",
      "execution_count": 25,
      "metadata": {
        "id": "ECrtwhtGTsk1",
        "outputId": "ffcf224b-b35e-43dd-bb81-05bb9d1512f8",
        "colab": {
          "base_uri": "https://localhost:8080/"
        }
      },
      "outputs": [
        {
          "output_type": "stream",
          "name": "stdout",
          "text": [
            "133128446065712 [1 2 3]\n",
            "133128162503888 [1 2 3]\n"
          ]
        }
      ],
      "source": [
        "x = np.array([1, 2, 3])\n",
        "y = np.copy(x)\n",
        "print(id(x), x)\n",
        "print(id(y), y)"
      ]
    },
    {
      "cell_type": "markdown",
      "metadata": {
        "id": "jwhFGDeBTsk1"
      },
      "source": [
        "## Numerical ranges"
      ]
    },
    {
      "cell_type": "markdown",
      "metadata": {
        "id": "YsbRvLJbTsk1"
      },
      "source": [
        "Create an array of 2, 4, 6, 8, ..., 100."
      ]
    },
    {
      "cell_type": "code",
      "execution_count": 27,
      "metadata": {
        "id": "LODBCadWTsk1",
        "outputId": "5f3dfbed-9deb-49fb-d481-dffc67d82fcd",
        "colab": {
          "base_uri": "https://localhost:8080/"
        }
      },
      "outputs": [
        {
          "output_type": "execute_result",
          "data": {
            "text/plain": [
              "array([  2,   4,   6,   8,  10,  12,  14,  16,  18,  20,  22,  24,  26,\n",
              "        28,  30,  32,  34,  36,  38,  40,  42,  44,  46,  48,  50,  52,\n",
              "        54,  56,  58,  60,  62,  64,  66,  68,  70,  72,  74,  76,  78,\n",
              "        80,  82,  84,  86,  88,  90,  92,  94,  96,  98, 100])"
            ]
          },
          "metadata": {},
          "execution_count": 27
        }
      ],
      "source": [
        "np.arange(2, 101, 2)"
      ]
    },
    {
      "cell_type": "markdown",
      "metadata": {
        "id": "f2Cv6Fn7Tsk1"
      },
      "source": [
        "Create a 1-D array of 50 evenly spaced elements between 3. and 10., inclusive."
      ]
    },
    {
      "cell_type": "code",
      "execution_count": 28,
      "metadata": {
        "id": "6gDKcxpUTsk6",
        "outputId": "1dabf34a-6c61-4243-f6e5-5aa356d2578c",
        "colab": {
          "base_uri": "https://localhost:8080/"
        }
      },
      "outputs": [
        {
          "output_type": "execute_result",
          "data": {
            "text/plain": [
              "array([ 3.        ,  3.14285714,  3.28571429,  3.42857143,  3.57142857,\n",
              "        3.71428571,  3.85714286,  4.        ,  4.14285714,  4.28571429,\n",
              "        4.42857143,  4.57142857,  4.71428571,  4.85714286,  5.        ,\n",
              "        5.14285714,  5.28571429,  5.42857143,  5.57142857,  5.71428571,\n",
              "        5.85714286,  6.        ,  6.14285714,  6.28571429,  6.42857143,\n",
              "        6.57142857,  6.71428571,  6.85714286,  7.        ,  7.14285714,\n",
              "        7.28571429,  7.42857143,  7.57142857,  7.71428571,  7.85714286,\n",
              "        8.        ,  8.14285714,  8.28571429,  8.42857143,  8.57142857,\n",
              "        8.71428571,  8.85714286,  9.        ,  9.14285714,  9.28571429,\n",
              "        9.42857143,  9.57142857,  9.71428571,  9.85714286, 10.        ])"
            ]
          },
          "metadata": {},
          "execution_count": 28
        }
      ],
      "source": [
        "import numpy as np\n",
        "np.linspace(3., 10., 50)"
      ]
    },
    {
      "cell_type": "markdown",
      "metadata": {
        "id": "DDFomILITsk6"
      },
      "source": [
        "Create a 1-D array of 50 element spaced evenly on a log scale between 3. and 10., exclusive."
      ]
    },
    {
      "cell_type": "code",
      "execution_count": 29,
      "metadata": {
        "id": "8-Fp8XyVTsk6",
        "outputId": "9940b696-146c-4fe6-d8d2-219f02efc09b",
        "colab": {
          "base_uri": "https://localhost:8080/"
        }
      },
      "outputs": [
        {
          "output_type": "execute_result",
          "data": {
            "text/plain": [
              "array([3.        , 3.07311512, 3.14801218, 3.22473461, 3.3033269 ,\n",
              "       3.38383462, 3.46630445, 3.5507842 , 3.63732288, 3.72597064,\n",
              "       3.81677891, 3.90980033, 4.00508884, 4.10269969, 4.20268948,\n",
              "       4.3051162 , 4.41003923, 4.51751942, 4.62761908, 4.74040206,\n",
              "       4.85593375, 4.97428114, 5.09551287, 5.21969922, 5.3469122 ,\n",
              "       5.47722558, 5.61071491, 5.74745761, 5.88753297, 6.0310222 ,\n",
              "       6.17800851, 6.32857712, 6.48281535, 6.64081263, 6.80266057,\n",
              "       6.96845302, 7.13828612, 7.31225834, 7.49047055, 7.67302611,\n",
              "       7.86003086, 8.05159323, 8.2478243 , 8.44883786, 8.65475046,\n",
              "       8.86568151, 9.0817533 , 9.30309113, 9.52982335, 9.76208141])"
            ]
          },
          "metadata": {},
          "execution_count": 29
        }
      ],
      "source": [
        "np.logspace(np.log10(3), np.log10(10), 50, endpoint=False)"
      ]
    },
    {
      "cell_type": "markdown",
      "metadata": {
        "id": "sOorhNKTTsk6"
      },
      "source": [
        "## Building matrices"
      ]
    },
    {
      "cell_type": "markdown",
      "metadata": {
        "id": "4TY-6b7QTsk6"
      },
      "source": [
        "Let X = np.array([[ 0,  1,  2,  3],\n",
        "                  [ 4,  5,  6,  7],\n",
        "                 [ 8,  9, 10, 11]]).\n",
        "                 Get the diagonal of X, that is, [0, 5, 10]."
      ]
    },
    {
      "cell_type": "code",
      "source": [
        "X = np.array([[ 0,  1,  2,  3],\n",
        "                  [ 4,  5,  6,  7],\n",
        "                 [ 8,  9, 10, 11]])\n",
        "X.diagonal()"
      ],
      "metadata": {
        "colab": {
          "base_uri": "https://localhost:8080/"
        },
        "id": "LmRynEO9uG9Y",
        "outputId": "50feb667-e71b-49e0-e5b2-f38d5cefdf2f"
      },
      "execution_count": 31,
      "outputs": [
        {
          "output_type": "execute_result",
          "data": {
            "text/plain": [
              "array([ 0,  5, 10])"
            ]
          },
          "metadata": {},
          "execution_count": 31
        }
      ]
    },
    {
      "cell_type": "markdown",
      "metadata": {
        "id": "CXpsNmqMTsk6"
      },
      "source": [
        "Create a 2-D array whose diagonal equals [1, 2, 3, 4] and 0's elsewhere."
      ]
    },
    {
      "cell_type": "code",
      "execution_count": 32,
      "metadata": {
        "id": "4jURFH8aTsk6",
        "outputId": "d0394750-0d07-4990-b224-ffe9da6c9336",
        "colab": {
          "base_uri": "https://localhost:8080/"
        }
      },
      "outputs": [
        {
          "output_type": "execute_result",
          "data": {
            "text/plain": [
              "array([[1, 0, 0, 0],\n",
              "       [0, 2, 0, 0],\n",
              "       [0, 0, 3, 0],\n",
              "       [0, 0, 0, 4]])"
            ]
          },
          "metadata": {},
          "execution_count": 32
        }
      ],
      "source": [
        "# Create a 4x4 array filled with zeros\n",
        "diagonal_array = np.zeros((4, 4), dtype=int)\n",
        "\n",
        "# Set the diagonal elements to the desired values\n",
        "np.fill_diagonal(diagonal_array, [1, 2, 3, 4])\n",
        "\n",
        "diagonal_array"
      ]
    },
    {
      "cell_type": "markdown",
      "metadata": {
        "id": "u0PJR1fHTsk6"
      },
      "source": [
        "Create an array which looks like below.\n",
        "array([[ 0.,  0.,  0.,  0.,  0.],\n",
        "       [ 1.,  0.,  0.,  0.,  0.],\n",
        "       [ 1.,  1.,  0.,  0.,  0.]])"
      ]
    },
    {
      "cell_type": "code",
      "execution_count": 33,
      "metadata": {
        "id": "mrTDXqPGTsk6",
        "outputId": "aaf37fa6-ed6f-4457-dee3-e6fac21a37fc",
        "colab": {
          "base_uri": "https://localhost:8080/"
        }
      },
      "outputs": [
        {
          "output_type": "execute_result",
          "data": {
            "text/plain": [
              "array([[0., 0., 0., 0., 0.],\n",
              "       [1., 0., 0., 0., 0.],\n",
              "       [1., 1., 0., 0., 0.]])"
            ]
          },
          "metadata": {},
          "execution_count": 33
        }
      ],
      "source": [
        "# Create a 3x5 array filled with zeros\n",
        "arr = np.zeros((3, 5))\n",
        "\n",
        "# Set the elements below the main diagonal to 1\n",
        "for i in range(1, 3):\n",
        "  for j in range(i):\n",
        "    arr[i,j] = 1\n",
        "\n",
        "arr"
      ]
    },
    {
      "cell_type": "markdown",
      "metadata": {
        "id": "iBTfFLYXTsk6"
      },
      "source": [
        "Create an array which looks like below.\n",
        "array([[ 0,  0,  0],\n",
        "       [ 4,  0,  0],\n",
        "       [ 7,  8,  0],\n",
        "       [10, 11, 12]])"
      ]
    },
    {
      "cell_type": "code",
      "execution_count": 34,
      "metadata": {
        "id": "VbyWlvv0Tsk6",
        "outputId": "48fc7cc4-c098-4e66-8b82-7e431143c097",
        "colab": {
          "base_uri": "https://localhost:8080/"
        }
      },
      "outputs": [
        {
          "output_type": "execute_result",
          "data": {
            "text/plain": [
              "array([[ 0,  0,  0],\n",
              "       [ 4,  5,  0],\n",
              "       [ 7,  8,  9],\n",
              "       [10, 11, 12]])"
            ]
          },
          "metadata": {},
          "execution_count": 34
        }
      ],
      "source": [
        "# Create a 4x3 array filled with zeros\n",
        "arr = np.zeros((4, 3), dtype=int)\n",
        "\n",
        "# Fill the array with the desired values\n",
        "values = [0, 4, 7, 10]\n",
        "for i in range(4):\n",
        "  for j in range(min(i + 1,3)):\n",
        "    arr[i,j] = values[i] + j\n",
        "\n",
        "arr"
      ]
    },
    {
      "cell_type": "markdown",
      "metadata": {
        "id": "2T6GDyHATsk6"
      },
      "source": [
        "Create an array which looks like below. array([[ 1,  2,  3],\n",
        "       [ 4,  5,  6],\n",
        "       [ 0,  8,  9],\n",
        "       [ 0,  0, 12]])"
      ]
    },
    {
      "cell_type": "code",
      "execution_count": 35,
      "metadata": {
        "id": "0SzIePhnTsk6",
        "outputId": "e450f4db-3971-4eb2-ed58-4d04952ea6db",
        "colab": {
          "base_uri": "https://localhost:8080/"
        }
      },
      "outputs": [
        {
          "output_type": "execute_result",
          "data": {
            "text/plain": [
              "array([[ 1,  2,  3],\n",
              "       [ 4,  5,  6],\n",
              "       [ 0,  8,  9],\n",
              "       [ 0,  0, 12]])"
            ]
          },
          "metadata": {},
          "execution_count": 35
        }
      ],
      "source": [
        "arr = np.array([[1, 2, 3], [4, 5, 6], [0, 8, 9], [0, 0, 12]])\n",
        "arr"
      ]
    }
  ],
  "metadata": {
    "kernelspec": {
      "display_name": "Python 2",
      "language": "python",
      "name": "python2"
    },
    "language_info": {
      "codemirror_mode": {
        "name": "ipython",
        "version": 2
      },
      "file_extension": ".py",
      "mimetype": "text/x-python",
      "name": "python",
      "nbconvert_exporter": "python",
      "pygments_lexer": "ipython2",
      "version": "2.7.6"
    },
    "colab": {
      "provenance": []
    }
  },
  "nbformat": 4,
  "nbformat_minor": 0
}