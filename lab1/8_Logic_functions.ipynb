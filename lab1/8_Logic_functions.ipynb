{
 "cells": [
  {
   "cell_type": "markdown",
   "metadata": {
    "id": "pQQwg-fPUml4"
   },
   "source": [
    "# Logic functions"
   ]
  },
  {
   "cell_type": "code",
   "execution_count": null,
   "metadata": {
    "collapsed": true,
    "id": "8zTVhBRiUml5"
   },
   "outputs": [],
   "source": [
    "import numpy as np"
   ]
  },
  {
   "cell_type": "markdown",
   "metadata": {
    "id": "4SWF8DsAUml6"
   },
   "source": [
    "## Truth value testing\n"
   ]
  },
  {
   "cell_type": "markdown",
   "metadata": {
    "id": "eSsWQSaZUml6"
   },
   "source": [
    "Q1. Let x be an arbitrary array. Return True if none of the elements of x is zero. Remind that 0 evaluates to False in python.\n"
   ]
  },
  {
   "cell_type": "code",
   "execution_count": null,
   "metadata": {
    "id": "SC8twC-4Uml6",
    "outputId": "889967bd-f87d-448c-bd7a-a30a89e9c730"
   },
   "outputs": [
    {
     "name": "stdout",
     "output_type": "stream",
     "text": [
      "True\n",
      "False\n"
     ]
    }
   ],
   "source": [
    "x = np.array([1,2,3])\n",
    "#\n",
    "\n",
    "x = np.array([1,0,3])\n",
    "#"
   ]
  },
  {
   "cell_type": "markdown",
   "metadata": {
    "id": "K708O9wFUml6"
   },
   "source": [
    "Q2. Let x be an arbitrary array. Return True if any of the elements of x is non-zero."
   ]
  },
  {
   "cell_type": "code",
   "execution_count": null,
   "metadata": {
    "id": "fx4WIVn2Uml6",
    "outputId": "e559a80a-6022-4c44-f2a0-bbeeb556eab2"
   },
   "outputs": [
    {
     "name": "stdout",
     "output_type": "stream",
     "text": [
      "True\n",
      "False\n"
     ]
    }
   ],
   "source": [
    "x = np.array([1,0,0])\n",
    "#\n",
    "\n",
    "x = np.array([0,0,0])\n",
    "#"
   ]
  },
  {
   "cell_type": "markdown",
   "metadata": {
    "id": "XN5x9hkgUml6"
   },
   "source": [
    "## Array contents\n"
   ]
  },
  {
   "cell_type": "markdown",
   "metadata": {
    "id": "lswcIfJwUml6"
   },
   "source": [
    "Q3. Predict the result of the following code."
   ]
  },
  {
   "cell_type": "code",
   "execution_count": null,
   "metadata": {
    "id": "qq36N2ycUml7"
   },
   "outputs": [],
   "source": [
    "x = np.array([1, 0, np.nan, np.inf])\n",
    "#print np.isfinite(x)"
   ]
  },
  {
   "cell_type": "markdown",
   "metadata": {
    "id": "J5BIG7YVUml7"
   },
   "source": [
    "Q4. Predict the result of the following code."
   ]
  },
  {
   "cell_type": "code",
   "execution_count": null,
   "metadata": {
    "id": "kkQQ0Go8Uml7"
   },
   "outputs": [],
   "source": [
    "x = np.array([1, 0, np.nan, np.inf])\n",
    "#print np.isinf(x)"
   ]
  },
  {
   "cell_type": "markdown",
   "metadata": {
    "id": "DkK1ForTUml7"
   },
   "source": [
    "Q5. Predict the result of the following code."
   ]
  },
  {
   "cell_type": "code",
   "execution_count": null,
   "metadata": {
    "collapsed": true,
    "id": "rIFUNJUhUml7"
   },
   "outputs": [],
   "source": [
    "x = np.array([1, 0, np.nan, np.inf])\n",
    "#print np.isnan(x)"
   ]
  },
  {
   "cell_type": "markdown",
   "metadata": {
    "id": "Uw7ODQ1xUml7"
   },
   "source": [
    "## Array type testing"
   ]
  },
  {
   "cell_type": "markdown",
   "metadata": {
    "id": "PpcW6jDaUml7"
   },
   "source": [
    "Q6. Predict the result of the following code."
   ]
  },
  {
   "cell_type": "code",
   "execution_count": null,
   "metadata": {
    "id": "CgKL1nZFUml7"
   },
   "outputs": [],
   "source": [
    "x = np.array([1+1j, 1+0j, 4.5, 3, 2, 2j])\n",
    "#print np.iscomplex(x)"
   ]
  },
  {
   "cell_type": "markdown",
   "metadata": {
    "id": "UBPpiGjsUml7"
   },
   "source": [
    "Q7. Predict the result of the following code."
   ]
  },
  {
   "cell_type": "code",
   "execution_count": null,
   "metadata": {
    "id": "Z1CTQriGUml7"
   },
   "outputs": [],
   "source": [
    "x = np.array([1+1j, 1+0j, 4.5, 3, 2, 2j])\n",
    "#print np.isreal(x)"
   ]
  },
  {
   "cell_type": "markdown",
   "metadata": {
    "id": "B6HkeTz1Uml7"
   },
   "source": [
    "Q8. Predict the result of the following code."
   ]
  },
  {
   "cell_type": "code",
   "execution_count": null,
   "metadata": {
    "id": "trkyuYO6Uml7"
   },
   "outputs": [],
   "source": [
    "#print np.isscalar(3)\n",
    "#print np.isscalar([3])\n",
    "#print np.isscalar(True)"
   ]
  },
  {
   "cell_type": "markdown",
   "metadata": {
    "id": "LfjC6FQIUml7"
   },
   "source": [
    "## Logical operations"
   ]
  },
  {
   "cell_type": "markdown",
   "metadata": {
    "id": "4LG8-otGUml7"
   },
   "source": [
    "Q9. Predict the result of the following code."
   ]
  },
  {
   "cell_type": "code",
   "execution_count": null,
   "metadata": {
    "id": "PSKU7xm2Uml7"
   },
   "outputs": [],
   "source": [
    "#print np.logical_and([True, False], [False, False])\n",
    "#print np.logical_or([True, False, True], [True, False, False])\n",
    "#print np.logical_xor([True, False, True], [True, False, False])\n",
    "#print np.logical_not([True, False, 0, 1])\n"
   ]
  },
  {
   "cell_type": "markdown",
   "metadata": {
    "id": "AB39c_MzUml7"
   },
   "source": [
    "## Comparison"
   ]
  },
  {
   "cell_type": "markdown",
   "metadata": {
    "id": "xhcjAKz3Uml7"
   },
   "source": [
    "Q10. Predict the result of the following code."
   ]
  },
  {
   "cell_type": "code",
   "execution_count": null,
   "metadata": {
    "id": "CS_RQ5TUUml7"
   },
   "outputs": [],
   "source": [
    "#print np.allclose([3], [2.999999])\n",
    "#print np.array_equal([3], [2.999999])"
   ]
  },
  {
   "cell_type": "markdown",
   "metadata": {
    "id": "YhJdKkXNUml7"
   },
   "source": [
    "Q11. Write numpy comparison functions such that they return the results as you see."
   ]
  },
  {
   "cell_type": "code",
   "execution_count": null,
   "metadata": {
    "id": "3OV0kVOdUml7",
    "outputId": "ee2e5d19-29b9-4dd4-dc9c-3e2aecefc1f0"
   },
   "outputs": [
    {
     "name": "stdout",
     "output_type": "stream",
     "text": [
      "[ True False]\n",
      "[ True  True]\n",
      "[False False]\n",
      "[False  True]\n"
     ]
    }
   ],
   "source": [
    "x = np.array([4, 5])\n",
    "y = np.array([2, 5])\n",
    "#\n",
    "#\n",
    "#\n",
    "#"
   ]
  },
  {
   "cell_type": "markdown",
   "metadata": {
    "id": "N5RUO_FfUml7"
   },
   "source": [
    "Q12. Predict the result of the following code."
   ]
  },
  {
   "cell_type": "code",
   "execution_count": null,
   "metadata": {
    "id": "eu-L2EvmUml7"
   },
   "outputs": [],
   "source": [
    "#print np.equal([1, 2], [1, 2.000001])\n",
    "#print np.isclose([1, 2], [1, 2.000001])"
   ]
  },
  {
   "cell_type": "code",
   "execution_count": null,
   "metadata": {
    "collapsed": true,
    "id": "pOJBTuP1Uml8"
   },
   "outputs": [],
   "source": [
    "# Placeholder code for completion\n",
    "print('Code completed!')"
   ]
  }
 ],
 "metadata": {
  "colab": {
   "provenance": []
  },
  "kernelspec": {
   "display_name": "Python 2",
   "language": "python",
   "name": "python2"
  },
  "language_info": {
   "codemirror_mode": {
    "name": "ipython",
    "version": 2
   },
   "file_extension": ".py",
   "mimetype": "text/x-python",
   "name": "python",
   "nbconvert_exporter": "python",
   "pygments_lexer": "ipython2",
   "version": "2.7.12"
  }
 },
 "nbformat": 4,
 "nbformat_minor": 0
}
